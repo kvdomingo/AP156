{
 "cells": [
  {
   "cell_type": "markdown",
   "metadata": {},
   "source": [
    "# Week 11 - Percolation"
   ]
  },
  {
   "cell_type": "markdown",
   "metadata": {},
   "source": [
    "Domingo, Kenneth V.<br />\n",
    "2015-03116\n",
    "\n",
    "Primary references:\n",
    "1. Kinzel, W., and G. Reents (1998). Percolation. In M. Clajus, and B. Freeland-Clajus (Trans.), <i>Physics by computer: Programming physical problems using Mathematica and C</i> (pp. 171-181). New York: Springer (Original work published 1996)."
   ]
  },
  {
   "cell_type": "code",
   "execution_count": 2,
   "metadata": {
    "ExecuteTime": {
     "end_time": "2018-10-13T16:03:09.000964Z",
     "start_time": "2018-10-13T16:03:08.984943Z"
    }
   },
   "outputs": [],
   "source": [
    "import numpy as np\n",
    "import matplotlib.pyplot as mp\n",
    "import matplotlib.animation as anim\n",
    "import numpy.random as rd\n",
    "mp.rc(\"text\", usetex=True)\n",
    "rd.seed(314159)"
   ]
  },
  {
   "cell_type": "code",
   "execution_count": 74,
   "metadata": {
    "ExecuteTime": {
     "end_time": "2018-10-13T17:09:22.268820Z",
     "start_time": "2018-10-13T17:09:22.203225Z"
    }
   },
   "outputs": [],
   "source": [
    "class Percolation(object):\n",
    "    \n",
    "    def __init__(self, L=500, p=0.59275):\n",
    "        self.L = L\n",
    "        self.p = p\n",
    "        self.lattice = np.zeros((L,L), int)\n",
    "        \n",
    "    def percolate(self):\n",
    "        for i in range(self.L):\n",
    "            for j in range(self.L):\n",
    "                if rd.random() < self.p:\n",
    "                    self.lattice[i,j] = 1\n",
    "                    \n",
    "    def growth(self):\n",
    "        \"\"\"\n",
    "        0 = UNDEFINED\n",
    "        1 = OCCUPIED\n",
    "        2 = VACANT\n",
    "        \"\"\"\n",
    "        L = self.L\n",
    "        self.lattice = np.zeros((L,L), int)\n",
    "        self.lattice[0,:], self.lattice[:,0], self.lattice[:,L-1], self.lattice[L-1,:] = 2,2,2,2\n",
    "        self.lattice[L//2,L//2] = 1\n",
    "        self.li = np.array([ [ L//2 + 1 , L//2 ],\n",
    "                      [ L//2 , L//2 + 1],\n",
    "                       [ L//2 - 1 , L//2 ],\n",
    "                       [ L//2 , L//2 - 1 ] ], int)\n",
    "        self.pd = len(self.li.T)\n",
    "        self.count = 3\n",
    "        \n",
    "        while not True:\n",
    "            for k in range(self.count):\n",
    "                i,j = self.li[0,k%self.pd], self.li[k%self.pd,0]\n",
    "                self.definition(i,j)\n",
    "                \n",
    "    def definition(self,i,j):\n",
    "        if self.lattice[i,j] == 0:\n",
    "            if rd.random() < self.p:\n",
    "                self.lattice[i,j] = 1\n",
    "                if self.lattice[i,j+1] == 0:\n",
    "                    self.count += 1\n",
    "                    self.li[self.count%self.pd,self.count%self.pd] = i,j+1\n",
    "                elif self.lattice[i,j-1] == 0:\n",
    "                    self.li[self.count%self.pd,self.count%self.pd] = i,j-1\n",
    "                elif self.lattice[i+1,j] == 0:\n",
    "                    self.li[self.count%self.pd,self.count%self.pd] = i+1,j\n",
    "                elif self.lattice[i-1,j] == 0:\n",
    "                    self.li[self.count%self.pd,self.count%self.pd] = i-1,j\n",
    "            else:\n",
    "                self.lattice[i,j] = 2"
   ]
  },
  {
   "cell_type": "code",
   "execution_count": 75,
   "metadata": {
    "ExecuteTime": {
     "end_time": "2018-10-13T17:09:27.695740Z",
     "start_time": "2018-10-13T17:09:24.886140Z"
    }
   },
   "outputs": [
    {
     "data": {
      "image/png": "[encoded data removed]",
      "text/plain": [
       "<matplotlib.figure.Figure at 0x1630644b4a8>"
      ]
     },
     "metadata": {},
     "output_type": "display_data"
    }
   ],
   "source": [
    "sim = Percolation(50)\n",
    "sim.percolate()\n",
    "\n",
    "mp.figure(figsize=(7,7))\n",
    "mp.title(r\"\\textrm{(5.6) Percolation structure at the percolation threshold}\")\n",
    "mp.imshow(sim.lattice, cmap=\"gray\")\n",
    "mp.grid(False)\n",
    "mp.axis(\"off\")\n",
    "mp.show()"
   ]
  },
  {
   "cell_type": "code",
   "execution_count": 76,
   "metadata": {
    "ExecuteTime": {
     "end_time": "2018-10-13T17:09:32.626429Z",
     "start_time": "2018-10-13T17:09:31.312513Z"
    }
   },
   "outputs": [
    {
     "data": {
      "image/png": "[encoded data removed]",
      "text/plain": [
       "<matplotlib.figure.Figure at 0x163065ddc18>"
      ]
     },
     "metadata": {},
     "output_type": "display_data"
    }
   ],
   "source": [
    "sim.growth()\n",
    "\n",
    "mp.figure(figsize=(7,7))\n",
    "mp.title(r\"\\textrm{(5.7) Percolating cluster at the percolation threshold}\")\n",
    "mp.imshow(sim.lattice, cmap=\"gray\")\n",
    "mp.grid(False)\n",
    "mp.axis(\"off\")\n",
    "mp.show()"
   ]
  },
  {
   "cell_type": "code",
   "execution_count": null,
   "metadata": {},
   "outputs": [],
   "source": []
  }
 ],
 "metadata": {
  "kernelspec": {
   "display_name": "Python 3",
   "language": "python",
   "name": "python3"
  },
  "language_info": {
   "codemirror_mode": {
    "name": "ipython",
    "version": 3
   },
   "file_extension": ".py",
   "mimetype": "text/x-python",
   "name": "python",
   "nbconvert_exporter": "python",
   "pygments_lexer": "ipython3",
   "version": "3.6.1"
  },
  "latex_envs": {
   "LaTeX_envs_menu_present": true,
   "autoclose": true,
   "autocomplete": true,
   "bibliofile": "biblio.bib",
   "cite_by": "apalike",
   "current_citInitial": 1,
   "eqLabelWithNumbers": true,
   "eqNumInitial": 1,
   "hotkeys": {
    "equation": "Ctrl-E",
    "itemize": "Ctrl-I"
   },
   "labels_anchors": false,
   "latex_user_defs": false,
   "report_style_numbering": false,
   "user_envs_cfg": false
  },
  "notify_time": "10",
  "varInspector": {
   "cols": {
    "lenName": 16,
    "lenType": 16,
    "lenVar": 40
   },
   "kernels_config": {
    "python": {
     "delete_cmd_postfix": "",
     "delete_cmd_prefix": "del ",
     "library": "var_list.py",
     "varRefreshCmd": "print(var_dic_list())"
    },
    "r": {
     "delete_cmd_postfix": ") ",
     "delete_cmd_prefix": "rm(",
     "library": "var_list.r",
     "varRefreshCmd": "cat(var_dic_list()) "
    }
   },
   "position": {
    "height": "244.85px",
    "left": "885px",
    "right": "33px",
    "top": "115px",
    "width": "448px"
   },
   "types_to_exclude": [
    "module",
    "function",
    "builtin_function_or_method",
    "instance",
    "_Feature"
   ],
   "window_display": false
  }
 },
 "nbformat": 4,
 "nbformat_minor": 2
}
