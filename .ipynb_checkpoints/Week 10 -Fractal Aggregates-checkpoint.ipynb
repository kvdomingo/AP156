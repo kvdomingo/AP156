{
 "cells": [
  {
   "cell_type": "markdown",
   "metadata": {},
   "source": [
    "# Week 10 - Fractal Aggregates"
   ]
  },
  {
   "cell_type": "markdown",
   "metadata": {},
   "source": [
    "Domingo, Kenneth V.<br />\n",
    "2015-03116\n",
    "\n",
    "Primary references:\n",
    "1. Kinzel, W., and G. Reents (1998). Fractal aggregates. In M. Clajus, and B. Freeland-Clajus (Trans.), <i>Physics by computer: Programming physical problems using Mathematica and C</i> (pp. 163-171). New York: Springer (Original work published 1996)."
   ]
  },
  {
   "cell_type": "code",
   "execution_count": 2,
   "metadata": {
    "ExecuteTime": {
     "end_time": "2018-10-13T13:23:42.299568Z",
     "start_time": "2018-10-13T13:23:42.297553Z"
    }
   },
   "outputs": [],
   "source": [
    "import numpy as np\n",
    "import matplotlib.pyplot as mp\n",
    "import matplotlib.animation as anim\n",
    "import numpy.random as rd\n",
    "mp.rc(\"text\", usetex=True)\n",
    "rd.seed(314159)"
   ]
  },
  {
   "cell_type": "code",
   "execution_count": 4,
   "metadata": {
    "ExecuteTime": {
     "end_time": "2018-10-13T13:54:54.039942Z",
     "start_time": "2018-10-13T13:54:54.001896Z"
    }
   },
   "outputs": [],
   "source": [
    "class FractalAggregate(object):\n",
    "\n",
    "    def __init__(self, rmax, lmax):\n",
    "        self.rmax = rmax\n",
    "        self.lmax = lmax\n",
    "        self.rs = rmax + 3\n",
    "        self.rd = rmax + 5\n",
    "        self.rkill = 100*rmax\n",
    "        self.xf = np.zeros([lmax,lmax])\n",
    "        self.N = 3000\n",
    "        self.rx = 0\n",
    "        self.ry = 0\n",
    "        \n",
    "    def occupy(self):\n",
    "        rs = self.rs\n",
    "        phi = rd.random()*2*np.pi\n",
    "        self.rx = rs*np.sin(phi)\n",
    "        self.ry = rs*np.cos(phi)\n",
    "\n",
    "    def jump(self):\n",
    "        r = rd.randint(4)\n",
    "        if r == 0:\n",
    "            self.rx += 1\n",
    "        elif r == 1:\n",
    "            self.rx -= 1\n",
    "        elif r== 2:\n",
    "            self.ry += 1\n",
    "        else:\n",
    "            self.ry -= 1\n",
    "            \n",
    "    def check(self):\n",
    "        x,y = self.rx, self.ry\n",
    "        r = np.hypot(x,y)\n",
    "        if r > self.rkill:\n",
    "            return \"k\"\n",
    "        elif r >= self.rd:\n",
    "            return \"c\"\n",
    "        elif (xf[rx + 1 + lmax/2][ry + lmax/2] + \\\n",
    "              xf[rx - 1 + lmax/2][ry + lmax/2] + \\\n",
    "              xf[rx + lmax/2][ry + 1 + lmax/2] + \\\n",
    "              xf[rx + lmax/2][ry - 1 + lmax/2] > 0):\n",
    "            return \"a\"\n",
    "        else:\n",
    "            return \"j\"\n",
    "        \n",
    "    def aggregate(self):\n",
    "        x,y = self.rx, self.ry\n",
    "        xf[rx + lmax/2][ry + lmax/2] = 1\n",
    "        rmax = max(rmax, np.hypot(x,y))\n",
    "    \n",
    "    def circlejump(self):\n",
    "        x,y = self.rx, self.ry\n",
    "        r = np.hypot(x,y)\n",
    "        phi = rd.random()*2*np.pi\n",
    "        self.rx += (r-rs)*np.sin(phi)\n",
    "        self.ry += (r-rs)*np.cos(phi)\n",
    "        \n",
    "    def update(self):\n",
    "        self.occupy()\n",
    "        self.jump()\n",
    "        while True:\n",
    "            status = self.check()\n",
    "            if status == \"k\":\n",
    "                self.occupy()\n",
    "                self.jumpy()\n",
    "            elif status == \"a\":\n",
    "                self.aggregate()\n",
    "                self.rs = self.rmax + 3.\n",
    "                self.rd = self.rmax + 5.\n",
    "                self.rkill = 100.*self.rmax\n",
    "                break\n",
    "            elif status == \"j\":\n",
    "                self.jump()\n",
    "            elif status == \"c\":\n",
    "                self.circlejump()\n",
    "                \n",
    "    def run(self):\n",
    "        self.xf[self.lmax/2][self.lmax/2] = 1\n",
    "        for i in range(1, self.N):\n",
    "            self.update()"
   ]
  },
  {
   "cell_type": "code",
   "execution_count": 5,
   "metadata": {
    "ExecuteTime": {
     "end_time": "2018-10-13T13:56:36.317131Z",
     "start_time": "2018-10-13T13:56:35.994055Z"
    }
   },
   "outputs": [
    {
     "ename": "IndexError",
     "evalue": "only integers, slices (`:`), ellipsis (`...`), numpy.newaxis (`None`) and integer or boolean arrays are valid indices",
     "output_type": "error",
     "traceback": [
      "\u001b[1;31m---------------------------------------------------------------------------\u001b[0m",
      "\u001b[1;31mIndexError\u001b[0m                                Traceback (most recent call last)",
      "\u001b[1;32m<ipython-input-5-679ef4ca8bd5>\u001b[0m in \u001b[0;36m<module>\u001b[1;34m\u001b[0m\n\u001b[0;32m      1\u001b[0m \u001b[0msim\u001b[0m \u001b[1;33m=\u001b[0m \u001b[0mFractalAggregate\u001b[0m\u001b[1;33m(\u001b[0m\u001b[1;36m1\u001b[0m\u001b[1;33m,\u001b[0m\u001b[1;36m220\u001b[0m\u001b[1;33m)\u001b[0m\u001b[1;33m\u001b[0m\u001b[0m\n\u001b[0;32m      2\u001b[0m \u001b[0msim\u001b[0m\u001b[1;33m.\u001b[0m\u001b[0mN\u001b[0m \u001b[1;33m=\u001b[0m \u001b[1;36m3000\u001b[0m\u001b[1;33m\u001b[0m\u001b[0m\n\u001b[1;32m----> 3\u001b[1;33m \u001b[0msim\u001b[0m\u001b[1;33m.\u001b[0m\u001b[0mrun\u001b[0m\u001b[1;33m(\u001b[0m\u001b[1;33m)\u001b[0m\u001b[1;33m\u001b[0m\u001b[0m\n\u001b[0m\u001b[0;32m      4\u001b[0m \u001b[1;33m\u001b[0m\u001b[0m\n\u001b[0;32m      5\u001b[0m \u001b[0mmp\u001b[0m\u001b[1;33m.\u001b[0m\u001b[0mmatshow\u001b[0m\u001b[1;33m(\u001b[0m\u001b[0msim\u001b[0m\u001b[1;33m.\u001b[0m\u001b[0mxf\u001b[0m\u001b[1;33m,\u001b[0m \u001b[0mcmap\u001b[0m\u001b[1;33m=\u001b[0m\u001b[1;34m\"gray\"\u001b[0m\u001b[1;33m)\u001b[0m\u001b[1;33m\u001b[0m\u001b[0m\n",
      "\u001b[1;32m<ipython-input-4-437b7f1cb24f>\u001b[0m in \u001b[0;36mrun\u001b[1;34m(self)\u001b[0m\n\u001b[0;32m     76\u001b[0m \u001b[1;33m\u001b[0m\u001b[0m\n\u001b[0;32m     77\u001b[0m     \u001b[1;32mdef\u001b[0m \u001b[0mrun\u001b[0m\u001b[1;33m(\u001b[0m\u001b[0mself\u001b[0m\u001b[1;33m)\u001b[0m\u001b[1;33m:\u001b[0m\u001b[1;33m\u001b[0m\u001b[0m\n\u001b[1;32m---> 78\u001b[1;33m         \u001b[0mself\u001b[0m\u001b[1;33m.\u001b[0m\u001b[0mxf\u001b[0m\u001b[1;33m[\u001b[0m\u001b[0mself\u001b[0m\u001b[1;33m.\u001b[0m\u001b[0mlmax\u001b[0m\u001b[1;33m/\u001b[0m\u001b[1;36m2\u001b[0m\u001b[1;33m]\u001b[0m\u001b[1;33m[\u001b[0m\u001b[0mself\u001b[0m\u001b[1;33m.\u001b[0m\u001b[0mlmax\u001b[0m\u001b[1;33m/\u001b[0m\u001b[1;36m2\u001b[0m\u001b[1;33m]\u001b[0m \u001b[1;33m=\u001b[0m \u001b[1;36m1\u001b[0m\u001b[1;33m\u001b[0m\u001b[0m\n\u001b[0m\u001b[0;32m     79\u001b[0m         \u001b[1;32mfor\u001b[0m \u001b[0mi\u001b[0m \u001b[1;32min\u001b[0m \u001b[0mrange\u001b[0m\u001b[1;33m(\u001b[0m\u001b[1;36m1\u001b[0m\u001b[1;33m,\u001b[0m \u001b[0mself\u001b[0m\u001b[1;33m.\u001b[0m\u001b[0mN\u001b[0m\u001b[1;33m)\u001b[0m\u001b[1;33m:\u001b[0m\u001b[1;33m\u001b[0m\u001b[0m\n\u001b[0;32m     80\u001b[0m             \u001b[0mself\u001b[0m\u001b[1;33m.\u001b[0m\u001b[0mupdate\u001b[0m\u001b[1;33m(\u001b[0m\u001b[1;33m)\u001b[0m\u001b[1;33m\u001b[0m\u001b[0m\n",
      "\u001b[1;31mIndexError\u001b[0m: only integers, slices (`:`), ellipsis (`...`), numpy.newaxis (`None`) and integer or boolean arrays are valid indices"
     ]
    }
   ],
   "source": [
    "sim = FractalAggregate(1,220)\n",
    "sim.N = 3000\n",
    "sim.run()\n",
    "\n",
    "mp.matshow(sim.xf, cmap=\"gray\")\n",
    "mp.show()\n",
    "print('The fractal dimension is ', np.log(sim.N)/np.log(sim.rmax))"
   ]
  },
  {
   "cell_type": "code",
   "execution_count": null,
   "metadata": {},
   "outputs": [],
   "source": []
  }
 ],
 "metadata": {
  "kernelspec": {
   "display_name": "Python 3",
   "language": "python",
   "name": "python3"
  },
  "language_info": {
   "codemirror_mode": {
    "name": "ipython",
    "version": 3
   },
   "file_extension": ".py",
   "mimetype": "text/x-python",
   "name": "python",
   "nbconvert_exporter": "python",
   "pygments_lexer": "ipython3",
   "version": "3.6.6"
  },
  "latex_envs": {
   "LaTeX_envs_menu_present": true,
   "autoclose": true,
   "autocomplete": true,
   "bibliofile": "biblio.bib",
   "cite_by": "apalike",
   "current_citInitial": 1,
   "eqLabelWithNumbers": true,
   "eqNumInitial": 1,
   "hotkeys": {
    "equation": "Ctrl-E",
    "itemize": "Ctrl-I"
   },
   "labels_anchors": false,
   "latex_user_defs": false,
   "report_style_numbering": false,
   "user_envs_cfg": false
  },
  "notify_time": "10",
  "varInspector": {
   "cols": {
    "lenName": 16,
    "lenType": 16,
    "lenVar": 40
   },
   "kernels_config": {
    "python": {
     "delete_cmd_postfix": "",
     "delete_cmd_prefix": "del ",
     "library": "var_list.py",
     "varRefreshCmd": "print(var_dic_list())"
    },
    "r": {
     "delete_cmd_postfix": ") ",
     "delete_cmd_prefix": "rm(",
     "library": "var_list.r",
     "varRefreshCmd": "cat(var_dic_list()) "
    }
   },
   "position": {
    "height": "244.85px",
    "left": "885px",
    "right": "33px",
    "top": "115px",
    "width": "448px"
   },
   "types_to_exclude": [
    "module",
    "function",
    "builtin_function_or_method",
    "instance",
    "_Feature"
   ],
   "window_display": false
  }
 },
 "nbformat": 4,
 "nbformat_minor": 2
}
