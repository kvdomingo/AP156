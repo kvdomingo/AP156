{
 "cells": [
  {
   "cell_type": "markdown",
   "metadata": {},
   "source": [
    "# AP156 Week 2 (15 Aug 18)"
   ]
  },
  {
   "cell_type": "code",
   "execution_count": 1,
   "metadata": {
    "collapsed": true
   },
   "outputs": [],
   "source": [
    "import numpy as np\n",
    "import numpy.fft as fft\n",
    "import matplotlib.pyplot as mp"
   ]
  },
  {
   "cell_type": "code",
   "execution_count": 45,
   "metadata": {
    "collapsed": true
   },
   "outputs": [],
   "source": [
    "def polarticks_1(value,tick_number):\n",
    "    N = int(np.round(value/np.pi))\n",
    "    if N == 0:\n",
    "        return \"0\"\n",
    "    elif N == -1:\n",
    "        return r\"$-\\pi$\"\n",
    "    elif N == 1:\n",
    "        return r\"$\\pi$\"\n",
    "    else:\n",
    "        return r\"${0}\\pi$\".format(N)\n",
    "\n",
    "def polarticks_2(value,tick_number):\n",
    "    N = int(np.round(2*value/np.pi))\n",
    "    if N == 0:\n",
    "        return \"0\"\n",
    "    elif N == -1:\n",
    "        return r\"$-\\frac{\\pi}{2}$\"\n",
    "    elif N == 1:\n",
    "        return r\"$\\frac{\\pi}{2}$\"\n",
    "    elif N == -2:\n",
    "        return r\"$-\\pi$\"\n",
    "    elif N == 2:\n",
    "        return r\"$\\pi$\"\n",
    "    elif N%2 < 0:\n",
    "        return r\"$-\\frac{%i\\pi}{2}$\"%N\n",
    "    elif N%2 > 0 or N%2 < 0:\n",
    "        return r\"$\\frac{%i\\pi}{2}$\"%N\n",
    "    else:\n",
    "        return r\"${0}\\pi$\".format(N//2)"
   ]
  },
  {
   "cell_type": "code",
   "execution_count": 130,
   "metadata": {
    "collapsed": true
   },
   "outputs": [],
   "source": [
    "def dft(a):\n",
    "    N = len(a)\n",
    "    b = np.zeros(N)\n",
    "    r = np.arange(N)\n",
    "    for s in range(1,N):\n",
    "        b[s] = sum(a*np.exp(2*np.pi*1j*(r-1)*(s-1)/N))\n",
    "    return b/np.sqrt(N)\n",
    "\n",
    "def idft(b):\n",
    "    N = len(b)\n",
    "    a = np.zeros(N)\n",
    "    s = np.arange(N)\n",
    "    for r in range(1,N):\n",
    "        a[r] = sum(b*np.exp(-2*np.pi*1j*(r-1)*(s-1)/N))\n",
    "    return a/np.sqrt(N)"
   ]
  }
 ],
 "metadata": {
  "kernelspec": {
   "display_name": "Python 3",
   "language": "python",
   "name": "python3"
  },
  "language_info": {
   "codemirror_mode": {
    "name": "ipython",
    "version": 3
   },
   "file_extension": ".py",
   "mimetype": "text/x-python",
   "name": "python",
   "nbconvert_exporter": "python",
   "pygments_lexer": "ipython3",
   "version": "3.6.1"
  }
 },
 "nbformat": 4,
 "nbformat_minor": 2
}
