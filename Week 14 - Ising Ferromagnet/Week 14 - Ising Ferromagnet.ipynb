{
 "cells": [
  {
   "cell_type": "code",
   "execution_count": 2,
   "metadata": {
    "ExecuteTime": {
     "end_time": "2018-11-14T03:32:05.771276Z",
     "start_time": "2018-11-14T03:32:05.761278Z"
    }
   },
   "outputs": [],
   "source": [
    "import numpy as np\n",
    "import matplotlib.pyplot as mp\n",
    "import matplotlib.animation as anim\n",
    "import numpy.random as rd\n",
    "from jupyterthemes import jtplot\n",
    "\n",
    "jtplot.style()\n",
    "mp.rcParams[\"text.usetex\"] = True\n",
    "mp.rcParams[\"figure.figsize\"] = (7,7)"
   ]
  },
  {
   "cell_type": "code",
   "execution_count": 24,
   "metadata": {
    "ExecuteTime": {
     "end_time": "2018-11-14T03:49:44.871820Z",
     "start_time": "2018-11-14T03:49:44.861833Z"
    }
   },
   "outputs": [],
   "source": [
    "class Ising:\n",
    "    \n",
    "    def __init__(self, L=20):\n",
    "        rd.seed(314159)\n",
    "        self.L = L\n",
    "        self.s = np.ones((L,L), int)\n",
    "        self.bf = np.zeros(3, float)\n",
    "        \n",
    "    def setT(self,t):\n",
    "        temp = t\n",
    "        self.bf[0] = 0.5*rd.random()\n",
    "        self.bf[1] = np.exp(-4/temp)*rd.random()\n",
    "        self.bf[2] = np.exp(-8/temp)*rd.random()\n",
    "        \n",
    "    def run(self):\n",
    "        s,L = self.s, self.L\n",
    "        for x in range(self.L-1):\n",
    "            for y in range(self.L-1):\n",
    "                e = s[x,y] * (s[x-1,y] + s[x+1,y] + s[x,y-1] + s[x,y+1])\n",
    "                if e < 0 or rd.random() < self.bf[e//2]:\n",
    "                    s[x,y] = -s[x,y]\n",
    "                    v = 2*(x*80+2*(y-1)+2)\n",
    "                    ch = (s[x,y] + 1)*15\n",
    "                    \n",
    "        for x in range(L-2):\n",
    "            s[0,x] = s[L-2,x]\n",
    "            s[L-1,x] = s[1,x]\n",
    "            s[x,0] = s[x,L-2]\n",
    "            s[x,L-1] = s[x,1]\n",
    "            \n",
    "        self.s = s"
   ]
  },
  {
   "cell_type": "code",
   "execution_count": 31,
   "metadata": {
    "ExecuteTime": {
     "end_time": "2018-11-14T03:50:13.813753Z",
     "start_time": "2018-11-14T03:50:13.658836Z"
    }
   },
   "outputs": [
    {
     "data": {
      "image/png": "[encoded data removed]",
      "text/plain": [
       "<Figure size 504x504 with 1 Axes>"
      ]
     },
     "metadata": {},
     "output_type": "display_data"
    }
   ],
   "source": [
    "sim = Ising(100)\n",
    "sim.setT(1000)\n",
    "sim.run()\n",
    "mp.imshow(sim.s, cmap=\"gray\")\n",
    "mp.show()"
   ]
  },
  {
   "cell_type": "code",
   "execution_count": null,
   "metadata": {},
   "outputs": [],
   "source": []
  }
 ],
 "metadata": {
  "kernelspec": {
   "display_name": "Python 3",
   "language": "python",
   "name": "python3"
  },
  "language_info": {
   "codemirror_mode": {
    "name": "ipython",
    "version": 3
   },
   "file_extension": ".py",
   "mimetype": "text/x-python",
   "name": "python",
   "nbconvert_exporter": "python",
   "pygments_lexer": "ipython3",
   "version": "3.6.5"
  },
  "latex_envs": {
   "LaTeX_envs_menu_present": true,
   "autoclose": false,
   "autocomplete": true,
   "bibliofile": "biblio.bib",
   "cite_by": "apalike",
   "current_citInitial": 1,
   "eqLabelWithNumbers": true,
   "eqNumInitial": 1,
   "hotkeys": {
    "equation": "Ctrl-E",
    "itemize": "Ctrl-I"
   },
   "labels_anchors": false,
   "latex_user_defs": false,
   "report_style_numbering": false,
   "user_envs_cfg": false
  },
  "varInspector": {
   "cols": {
    "lenName": 16,
    "lenType": 16,
    "lenVar": 40
   },
   "kernels_config": {
    "python": {
     "delete_cmd_postfix": "",
     "delete_cmd_prefix": "del ",
     "library": "var_list.py",
     "varRefreshCmd": "print(var_dic_list())"
    },
    "r": {
     "delete_cmd_postfix": ") ",
     "delete_cmd_prefix": "rm(",
     "library": "var_list.r",
     "varRefreshCmd": "cat(var_dic_list()) "
    }
   },
   "types_to_exclude": [
    "module",
    "function",
    "builtin_function_or_method",
    "instance",
    "_Feature"
   ],
   "window_display": false
  }
 },
 "nbformat": 4,
 "nbformat_minor": 2
}
