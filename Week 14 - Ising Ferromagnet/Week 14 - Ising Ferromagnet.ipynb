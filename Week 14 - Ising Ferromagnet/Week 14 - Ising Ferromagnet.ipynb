{
 "cells": [
  {
   "cell_type": "code",
   "execution_count": 1,
   "metadata": {
    "ExecuteTime": {
     "end_time": "2018-11-26T05:49:19.674092Z",
     "start_time": "2018-11-26T05:49:17.986445Z"
    }
   },
   "outputs": [],
   "source": [
    "import numpy as np\n",
    "import matplotlib as mpl\n",
    "import matplotlib.pyplot as mp\n",
    "import matplotlib.animation as anim\n",
    "import scipy.constants as sc\n",
    "import numpy.random as rd\n",
    "from jupyterthemes import jtplot\n",
    "\n",
    "jtplot.reset()\n",
    "mp.switch_backend(\"TkAgg\")\n",
    "mpl.interactive(True)\n",
    "mp.rcParams[\"text.usetex\"] = True\n",
    "mp.rcParams[\"font.family\"] = \"serif\"\n",
    "mp.rcParams[\"figure.figsize\"] = (7,7)"
   ]
  },
  {
   "cell_type": "code",
   "execution_count": 12,
   "metadata": {
    "ExecuteTime": {
     "end_time": "2018-11-25T17:27:24.372631Z",
     "start_time": "2018-11-25T17:27:24.341924Z"
    }
   },
   "outputs": [],
   "source": [
    "class Ising(object):\n",
    "    \n",
    "    def __init__(self, L=100, T=2.269, J=1, h=0):\n",
    "        rd.seed(314)\n",
    "        self.L = L\n",
    "        self.s = rd.choice([1,-1], size=[L,L])\n",
    "        self.T = T\n",
    "        self.count = 0\n",
    "        self.h = h\n",
    "        self.J = J\n",
    "        \n",
    "    def get_mag(self):\n",
    "        return np.sum(self.s)/self.L\n",
    "        \n",
    "    def metropolis(self, dE, y, x, s, T):\n",
    "        if rd.random() < np.exp(dE/T):\n",
    "            s[y,x] = -s[y,x]\n",
    "        return s\n",
    "    \n",
    "    def deltaE(self,y,x):\n",
    "        L,s = self.L, self.s\n",
    "        per = np.empty([L+2,L+2], int)\n",
    "        per[1:L+1,1:L+1] = s\n",
    "        per[0,1:L+1] = s[L-1]\n",
    "        per[L+1,1:L+1] = s[0]\n",
    "        per[1:L+1,0] = s[:,L-1]\n",
    "        per[1:L+1,L+1] = s[:,0]\n",
    "        X = x+1\n",
    "        Y = y+1\n",
    "        s_j = per[Y-1,X] + per[Y+1,X] + per[Y,X-1] + per[Y,X+1]\n",
    "        h_i = self.J*s_j + self.h\n",
    "        dE = -2*s[y,x]*h_i\n",
    "        return dE\n",
    "        \n",
    "    def on_key(self, event):\n",
    "        key = event.key\n",
    "        if key == \"h\":\n",
    "            self.h += 1\n",
    "        elif key == \"g\":\n",
    "            self.h -= 1\n",
    "        elif key == \"t\":\n",
    "            self.T += 1\n",
    "        elif key == \"r\":\n",
    "            self.T /= 2\n",
    "        elif key == \"i\":\n",
    "            self.maxIters += 1\n",
    "        elif key == \"u\":\n",
    "            self.maxIters -= 1\n",
    "        elif key == \"j\":\n",
    "            self.J += 1\n",
    "        elif key == \"k\":\n",
    "            self.J -= 1\n",
    "        elif key == \"c\":\n",
    "            self.T = 2.269\n",
    "            \n",
    "    def continue_loop(self):\n",
    "        while True:\n",
    "            self.count += 1\n",
    "            yield self.count\n",
    "            \n",
    "    def update_interactive(self, continue_loop):\n",
    "        for _ in range(self.L):\n",
    "            x,y = rd.randint(self.L), rd.randint(self.L)\n",
    "            dE = self.deltaE(x,y)\n",
    "            s = self.metropolis(dE,x,y,self.s,self.T)\n",
    "            self.s = s\n",
    "        self.im.set_data(self.s)\n",
    "        self.data1_text.set_text(self.data1_template %(self.T, np.mean(self.h)))\n",
    "        self.data2_text.set_text(self.data2_template %(self.L, self.get_mag(), self.J))\n",
    "        return self.im, self.data1_text, self.data2_text\n",
    "            \n",
    "    def run_interactive(self):\n",
    "        fig, (ax1,ax2) = mp.subplots(2,1, gridspec_kw={\"height_ratios\":[8,1]}, facecolor=\"k\")\n",
    "        self.data1_template = r\"\\textrm{\\\\ Ising ferromagnet: \\\\ temperature $T = %.2f$ \\\\ external field $h = %i$}\"\n",
    "        self.data2_template = r\"\\textrm{\\\\ lattice size $N = %i$ \\\\ magnetization $m = %.3f$ \\\\ coupling strength $J = %i$}\"\n",
    "        self.data1_text = ax2.text(0.15, 0.9, \"\", transform=ax2.transAxes, color=\"w\", fontsize=12)\n",
    "        self.data2_text = ax2.text(0.5, 0.9, \"\", transform=ax2.transAxes, color=\"w\", fontsize=12)\n",
    "        self.im = ax1.imshow(self.s, cmap=\"jet\", animated=True)\n",
    "        ax1.grid(False)\n",
    "        ax1.axis(\"off\")\n",
    "        ax2.grid(False)\n",
    "        ax2.axis(\"off\")\n",
    "        fig.canvas.mpl_connect(\"key_press_event\", self.on_key)\n",
    "        ani = anim.FuncAnimation(fig, self.update_interactive, self.continue_loop, interval=10, repeat=0)\n",
    "        mp.tight_layout()\n",
    "        mp.show(block=1)"
   ]
  },
  {
   "cell_type": "code",
   "execution_count": 14,
   "metadata": {
    "ExecuteTime": {
     "end_time": "2018-11-25T17:28:26.712399Z",
     "start_time": "2018-11-25T17:27:53.240054Z"
    }
   },
   "outputs": [],
   "source": [
    "sim = Ising(L=100, T=2.269, J=5, h=0)\n",
    "sim.run_interactive()"
   ]
  },
  {
   "cell_type": "code",
   "execution_count": null,
   "metadata": {},
   "outputs": [],
   "source": []
  }
 ],
 "metadata": {
  "kernelspec": {
   "display_name": "Python 3",
   "language": "python",
   "name": "python3"
  },
  "language_info": {
   "codemirror_mode": {
    "name": "ipython",
    "version": 3
   },
   "file_extension": ".py",
   "mimetype": "text/x-python",
   "name": "python",
   "nbconvert_exporter": "python",
   "pygments_lexer": "ipython3",
   "version": "3.6.6"
  },
  "latex_envs": {
   "LaTeX_envs_menu_present": true,
   "autoclose": false,
   "autocomplete": true,
   "bibliofile": "biblio.bib",
   "cite_by": "apalike",
   "current_citInitial": 1,
   "eqLabelWithNumbers": true,
   "eqNumInitial": 1,
   "hotkeys": {
    "equation": "Ctrl-E",
    "itemize": "Ctrl-I"
   },
   "labels_anchors": false,
   "latex_user_defs": false,
   "report_style_numbering": false,
   "user_envs_cfg": false
  },
  "notify_time": "10",
  "varInspector": {
   "cols": {
    "lenName": 16,
    "lenType": 16,
    "lenVar": 40
   },
   "kernels_config": {
    "python": {
     "delete_cmd_postfix": "",
     "delete_cmd_prefix": "del ",
     "library": "var_list.py",
     "varRefreshCmd": "print(var_dic_list())"
    },
    "r": {
     "delete_cmd_postfix": ") ",
     "delete_cmd_prefix": "rm(",
     "library": "var_list.r",
     "varRefreshCmd": "cat(var_dic_list()) "
    }
   },
   "types_to_exclude": [
    "module",
    "function",
    "builtin_function_or_method",
    "instance",
    "_Feature"
   ],
   "window_display": false
  }
 },
 "nbformat": 4,
 "nbformat_minor": 2
}
