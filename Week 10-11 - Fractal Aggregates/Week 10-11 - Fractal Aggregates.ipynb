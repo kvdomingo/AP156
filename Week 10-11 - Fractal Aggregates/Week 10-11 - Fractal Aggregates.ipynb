{
 "cells": [
  {
   "cell_type": "markdown",
   "metadata": {},
   "source": [
    "# Week 10-11 - Fractal Aggregates"
   ]
  },
  {
   "cell_type": "markdown",
   "metadata": {
    "ExecuteTime": {
     "end_time": "2018-10-14T16:46:14.772305Z",
     "start_time": "2018-10-14T16:46:14.749275Z"
    }
   },
   "source": [
    "Domingo, Kenneth V.<br />\n",
    "2015-03116\n",
    "\n",
    "Primary references:\n",
    "1. Kinzel, W., and G. Reents (1998). Fractal aggregates. In M. Clajus, and B. Freeland-Clajus (Trans.), <i>Physics by computer: Programming physical problems using Mathematica and C</i> (pp. 163-171). New York: Springer (Original work published 1996)."
   ]
  },
  {
   "cell_type": "code",
   "execution_count": 1,
   "metadata": {
    "ExecuteTime": {
     "end_time": "2018-10-24T05:22:22.828107Z",
     "start_time": "2018-10-24T05:22:03.260380Z"
    }
   },
   "outputs": [],
   "source": [
    "import numpy as np\n",
    "import matplotlib.pyplot as mp\n",
    "import matplotlib.animation as anim\n",
    "import numpy.random as rd\n",
    "mp.rc(\"text\", usetex=True)"
   ]
  },
  {
   "cell_type": "code",
   "execution_count": 2,
   "metadata": {
    "ExecuteTime": {
     "end_time": "2018-10-24T05:22:23.091493Z",
     "start_time": "2018-10-24T05:22:22.878180Z"
    }
   },
   "outputs": [],
   "source": [
    "class FractalAggregate(object):\n",
    "\n",
    "    def __init__(self, N=3000, rmax=10, lmax=220):\n",
    "        rd.seed(314159)\n",
    "        self.rmax = rmax\n",
    "        self.lmax = lmax\n",
    "        self.rs = rmax + 3\n",
    "        self.rd = rmax + 5\n",
    "        self.rkill = 10*rmax\n",
    "        self.rx = 0\n",
    "        self.ry = 0\n",
    "        self.xf = np.zeros((lmax,lmax), int)\n",
    "        self.N = N\n",
    "        self.M = 0\n",
    "\n",
    "    def occupy(self):\n",
    "        rs = self.rs\n",
    "        phi = rd.random()*2*np.pi\n",
    "        self.rx = np.round(rs*np.sin(phi)).astype(int)\n",
    "        self.ry = np.round(rs*np.cos(phi)).astype(int)\n",
    "\n",
    "    def jump(self):\n",
    "        a = rd.randint(4)\n",
    "        if a == 0:\n",
    "            self.rx += 1\n",
    "        elif a == 1:\n",
    "            self.rx -= 1\n",
    "        elif a == 2:\n",
    "            self.ry += 1\n",
    "        elif a == 3:\n",
    "            self.ry -= 1\n",
    "\n",
    "    def check(self):\n",
    "        rx,ry = self.rx, self.ry\n",
    "        xf,lmax = self.xf, self.lmax\n",
    "        R = np.hypot(rx,ry)\n",
    "        if R > self.rkill:\n",
    "            return \"k\"\n",
    "        elif R >= self.rd:\n",
    "            return \"c\"\n",
    "        elif (xf[rx + 1 + lmax//2, ry + lmax//2] + \\\n",
    "              xf[rx - 1 + lmax//2, ry + lmax//2] + \\\n",
    "              xf[rx + lmax//2, ry + 1 + lmax//2] + \\\n",
    "              xf[rx + lmax//2, ry - 1 + lmax//2] > 0):\n",
    "            return \"a\"\n",
    "        else:\n",
    "            return \"j\"\n",
    "\n",
    "    def aggregate(self):\n",
    "        rx,ry,xf,rmax,lmax = self.rx, self.ry, self.xf, self.rmax, self.lmax\n",
    "        xf[rx + lmax//2, ry + lmax//2] = 1\n",
    "        self.M += 1\n",
    "        self.rmax = max(rmax, np.hypot(rx,ry))\n",
    "    \n",
    "    def circlejump(self):\n",
    "        rx,ry,rs = self.rx, self.ry, self.rs\n",
    "        R = np.hypot(rx,ry)\n",
    "        phi = rd.random()*2*np.pi\n",
    "        self.rx += np.round((R-rs)*np.sin(phi)).astype(int)\n",
    "        self.ry += np.round((R-rs)*np.cos(phi)).astype(int)\n",
    "        \n",
    "    def update(self):\n",
    "        self.occupy()\n",
    "        self.jump()\n",
    "        while True:\n",
    "            status = self.check()\n",
    "            if status == \"k\":\n",
    "                self.occupy()\n",
    "                self.jump()\n",
    "            elif status == \"a\":\n",
    "                self.aggregate()\n",
    "                self.rs = self.rmax + 3\n",
    "                self.rd = self.rmax + 5\n",
    "                self.rkill = 100*self.rmax\n",
    "                break\n",
    "            elif status == \"j\":\n",
    "                self.jump()\n",
    "            elif status == \"c\":\n",
    "                self.circlejump()\n",
    "                \n",
    "    def run(self):\n",
    "        lmax = self.lmax\n",
    "        self.xf[lmax//2, lmax//2] = 1\n",
    "        fig = mp.figure(figsize=(7,7))\n",
    "        ax = fig.add_subplot(111)\n",
    "        ax.axis(\"off\")\n",
    "        ax.grid(False)\n",
    "        data_template = r\"\\textrm{\\\\ $M = %i$ \\\\ $R_{max} = %.3f$ \\\\ $D = %.3f$}\"\n",
    "        data_text = ax.text(0.025, 0.025, \"\", transform=ax.transAxes, fontsize=14, color=\"w\")\n",
    "        \n",
    "        def init():\n",
    "            xf = mp.imshow(self.xf, cmap=\"gray\", animated=True)\n",
    "            data_text.set_text(\"\")\n",
    "            return xf, data_text\n",
    "        \n",
    "        def animate(i):\n",
    "            self.update()\n",
    "            data_text.set_text(data_template %(self.M, self.rmax, np.log(self.M)/np.log(self.rmax)))\n",
    "            xf = mp.imshow(self.xf, cmap=\"gray\", animated=True)\n",
    "            return xf, data_text\n",
    "        \n",
    "        ani = anim.FuncAnimation(fig, animate, self.N, interval=30, blit=True, init_func=init)\n",
    "        ani.save(\"fractal-aggregates.mp4\", writer=\"ffmpeg\")\n",
    "        mp.show()"
   ]
  },
  {
   "cell_type": "code",
   "execution_count": 7,
   "metadata": {
    "ExecuteTime": {
     "end_time": "2018-10-17T03:40:28.460179Z",
     "start_time": "2018-10-17T03:40:28.345067Z"
    }
   },
   "outputs": [
    {
     "data": {
      "image/png": "[encoded data removed]",
      "text/plain": [
       "<Figure size 504x504 with 1 Axes>"
      ]
     },
     "metadata": {
      "needs_background": "light"
     },
     "output_type": "display_data"
    }
   ],
   "source": [
    "sim = FractalAggregate(500)\n",
    "sim.run()"
   ]
  },
  {
   "cell_type": "code",
   "execution_count": null,
   "metadata": {},
   "outputs": [],
   "source": []
  }
 ],
 "metadata": {
  "kernelspec": {
   "display_name": "Python 3",
   "language": "python",
   "name": "python3"
  },
  "language_info": {
   "codemirror_mode": {
    "name": "ipython",
    "version": 3
   },
   "file_extension": ".py",
   "mimetype": "text/x-python",
   "name": "python",
   "nbconvert_exporter": "python",
   "pygments_lexer": "ipython3",
   "version": "3.6.6"
  },
  "latex_envs": {
   "LaTeX_envs_menu_present": true,
   "autoclose": true,
   "autocomplete": true,
   "bibliofile": "biblio.bib",
   "cite_by": "apalike",
   "current_citInitial": 1,
   "eqLabelWithNumbers": true,
   "eqNumInitial": 1,
   "hotkeys": {
    "equation": "Ctrl-E",
    "itemize": "Ctrl-I"
   },
   "labels_anchors": false,
   "latex_user_defs": false,
   "report_style_numbering": false,
   "user_envs_cfg": false
  },
  "varInspector": {
   "cols": {
    "lenName": 16,
    "lenType": 16,
    "lenVar": 40
   },
   "kernels_config": {
    "python": {
     "delete_cmd_postfix": "",
     "delete_cmd_prefix": "del ",
     "library": "var_list.py",
     "varRefreshCmd": "print(var_dic_list())"
    },
    "r": {
     "delete_cmd_postfix": ") ",
     "delete_cmd_prefix": "rm(",
     "library": "var_list.r",
     "varRefreshCmd": "cat(var_dic_list()) "
    }
   },
   "position": {
    "height": "244.85px",
    "left": "885px",
    "right": "33px",
    "top": "115px",
    "width": "448px"
   },
   "types_to_exclude": [
    "module",
    "function",
    "builtin_function_or_method",
    "instance",
    "_Feature"
   ],
   "window_display": false
  }
 },
 "nbformat": 4,
 "nbformat_minor": 2
}
