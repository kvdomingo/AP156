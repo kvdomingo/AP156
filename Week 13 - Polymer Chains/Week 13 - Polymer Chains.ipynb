{
 "cells": [
  {
   "cell_type": "code",
   "execution_count": 2,
   "metadata": {
    "ExecuteTime": {
     "end_time": "2018-11-13T17:16:01.686338Z",
     "start_time": "2018-11-13T17:16:01.670943Z"
    }
   },
   "outputs": [],
   "source": [
    "import numpy as np\n",
    "import matplotlib.pyplot as mp\n",
    "import matplotlib.animation as anim\n",
    "import numpy.random as rd\n",
    "from jupyterthemes import jtplot\n",
    "\n",
    "jtplot.style()\n",
    "mp.rcParams[\"text.usetex\"] = True\n",
    "mp.rcParams[\"figure.figsize\"] = (7,7)"
   ]
  },
  {
   "cell_type": "code",
   "execution_count": 3,
   "metadata": {
    "ExecuteTime": {
     "end_time": "2018-11-13T17:16:02.404919Z",
     "start_time": "2018-11-13T17:16:02.358079Z"
    },
    "code_folding": []
   },
   "outputs": [],
   "source": [
    "class PolymerChain:\n",
    "    \n",
    "    def __init__(self, N, maxiters):\n",
    "        rd.seed(31415)\n",
    "        self.polymer = np.zeros((N,2), int)\n",
    "        self.direction = np.zeros((3,2), int)\n",
    "        for i in range(N):\n",
    "            self.polymer[i,0] = i - N//2\n",
    "        self.polymer[:,1] = 0\n",
    "        self.head = N-1\n",
    "        self.tail = 0\n",
    "        self.incr = 1\n",
    "        self.N = N\n",
    "        self.maxiters = maxiters\n",
    "            \n",
    "    def choice(self):\n",
    "        head = self.head\n",
    "        hm = (self.head - self.incr + self.N)%self.N\n",
    "        self.direction[0,0] = self.polymer[head,0] - self.polymer[hm,0]\n",
    "        self.direction[0,1] = self.polymer[head,1] - self.polymer[hm,1]\n",
    "        self.direction[1,0] = self.direction[0,1]\n",
    "        self.direction[1,1] = self.direction[0,0]\n",
    "        self.direction[2,0] = -self.direction[1,0]\n",
    "        self.direction[2,1] = -self.direction[1,1]\n",
    "        r = rd.randint(3)\n",
    "        return self.direction[r]\n",
    "    \n",
    "    def intersection(self,c):\n",
    "        if (self.polymer[self.head,0]+1 in self.polymer) and \\\n",
    "        (self.polymer[self.head,0]-1 in self.polymer) and \\\n",
    "        (self.polymer[self.head,1]+1 in self.polymer) and \\\n",
    "        (self.polymer[self.head,1]-1 in self.polymer):\n",
    "            return True\n",
    "        else:\n",
    "            return False\n",
    "            \n",
    "    def accept(self,c):\n",
    "        head = self.head\n",
    "        hp = (self.head + self.incr + self.N)%self.N\n",
    "        self.polymer[hp,0] = c[0] + self.polymer[head,0]\n",
    "        self.polymer[hp,1] = c[1] + self.polymer[head,1]\n",
    "        self.head = hp\n",
    "        self.tail = (self.head + self.incr + self.N)%self.N\n",
    "        \n",
    "    def endtoend(self):\n",
    "        diff = self.polymer[0] - self.polymer[-1]\n",
    "        self.dist = np.sqrt(np.sum(diff**2))\n",
    "        \n",
    "    def run(self):\n",
    "        fig = mp.figure()\n",
    "        ax = fig.add_subplot(111)\n",
    "        ax.axis(\"off\")\n",
    "        ax.grid(False)\n",
    "        #ax.set_xlim(-25,25)\n",
    "        #ax.set_ylim(-25,25)\n",
    "        line, = ax.plot(self.polymer[:,0], self.polymer[:,1], \"w-\", marker=\"o\")\n",
    "        ax.relim()\n",
    "        ax.autoscale_view(True,True,True)\n",
    "        \n",
    "        def init():\n",
    "            line.set_ydata([np.nan]*len(self.polymer))\n",
    "            ax.relim()\n",
    "            ax.autoscale_view(True,True,True)\n",
    "            return line,\n",
    "        \n",
    "        def animate(i):\n",
    "            c = self.choice()\n",
    "            if self.intersection(c):\n",
    "                self.head = self.tail\n",
    "                self.incr *= -1\n",
    "                self.tail = (self.head + self.incr + self.N)%self.N\n",
    "            else:\n",
    "                self.accept(c)\n",
    "                \n",
    "            line.set_xdata(self.polymer[:,0])\n",
    "            line.set_ydata(self.polymer[:,1])\n",
    "            ax.relim()\n",
    "            ax.autoscale_view(True,True,True)\n",
    "            return line,\n",
    "        \n",
    "        ani = anim.FuncAnimation(fig, animate, self.maxiters, interval=60, blit=True, init_func=init)\n",
    "        ani.save(\"polymerchains.mp4\", writer=\"ffmpeg\", fps=15)\n",
    "        mp.show()"
   ]
  },
  {
   "cell_type": "code",
   "execution_count": 4,
   "metadata": {
    "ExecuteTime": {
     "end_time": "2018-11-13T17:16:06.546278Z",
     "start_time": "2018-11-13T17:16:03.139888Z"
    }
   },
   "outputs": [
    {
     "data": {
      "image/png": "[encoded data removed]",
      "text/plain": [
       "<Figure size 504x504 with 1 Axes>"
      ]
     },
     "metadata": {},
     "output_type": "display_data"
    }
   ],
   "source": [
    "sim = PolymerChain(50,500)\n",
    "sim.run()"
   ]
  },
  {
   "cell_type": "code",
   "execution_count": null,
   "metadata": {},
   "outputs": [],
   "source": []
  }
 ],
 "metadata": {
  "kernelspec": {
   "display_name": "Python 3",
   "language": "python",
   "name": "python3"
  },
  "language_info": {
   "codemirror_mode": {
    "name": "ipython",
    "version": 3
   },
   "file_extension": ".py",
   "mimetype": "text/x-python",
   "name": "python",
   "nbconvert_exporter": "python",
   "pygments_lexer": "ipython3",
   "version": "3.6.5"
  },
  "latex_envs": {
   "LaTeX_envs_menu_present": true,
   "autoclose": false,
   "autocomplete": true,
   "bibliofile": "biblio.bib",
   "cite_by": "apalike",
   "current_citInitial": 1,
   "eqLabelWithNumbers": true,
   "eqNumInitial": 1,
   "hotkeys": {
    "equation": "Ctrl-E",
    "itemize": "Ctrl-I"
   },
   "labels_anchors": false,
   "latex_user_defs": false,
   "report_style_numbering": false,
   "user_envs_cfg": false
  },
  "varInspector": {
   "cols": {
    "lenName": 16,
    "lenType": 16,
    "lenVar": 40
   },
   "kernels_config": {
    "python": {
     "delete_cmd_postfix": "",
     "delete_cmd_prefix": "del ",
     "library": "var_list.py",
     "varRefreshCmd": "print(var_dic_list())"
    },
    "r": {
     "delete_cmd_postfix": ") ",
     "delete_cmd_prefix": "rm(",
     "library": "var_list.r",
     "varRefreshCmd": "cat(var_dic_list()) "
    }
   },
   "types_to_exclude": [
    "module",
    "function",
    "builtin_function_or_method",
    "instance",
    "_Feature"
   ],
   "window_display": false
  }
 },
 "nbformat": 4,
 "nbformat_minor": 2
}
