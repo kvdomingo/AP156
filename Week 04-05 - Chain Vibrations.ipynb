{
 "cells": [
  {
   "cell_type": "markdown",
   "metadata": {},
   "source": [
    "# AP156 Week 4-5 (29 Aug - 5 Sep 18)"
   ]
  },
  {
   "cell_type": "markdown",
   "metadata": {},
   "source": [
    "Domingo, Kenneth V.<br />\n",
    "2015-03116\n",
    "\n",
    "Primary references:\n",
    "1. Kinzel, W., and G. Reents (1998). Chain vibrations. In M. Clajus, and B. Freeland-Clajus (Trans.), <i>Physics by computer: Programming physical problems using Mathematica and C</i> (pp. 59-63). New York: Springer (Original work published 1996)."
   ]
  },
  {
   "cell_type": "code",
   "execution_count": 24,
   "metadata": {
    "ExecuteTime": {
     "end_time": "2018-09-06T17:20:49.914173Z",
     "start_time": "2018-09-06T17:20:28.300098Z"
    }
   },
   "outputs": [],
   "source": [
    "import numpy as np\n",
    "import matplotlib.pyplot as mp\n",
    "import matplotlib.animation as anim\n",
    "import scipy.linalg as sla\n",
    "from pandas import DataFrame\n",
    "%matplotlib inline\n",
    "mp.rc(\"text\", usetex=True)"
   ]
  },
  {
   "cell_type": "code",
   "execution_count": 7,
   "metadata": {
    "ExecuteTime": {
     "end_time": "2018-09-06T17:07:57.179250Z",
     "start_time": "2018-09-06T17:07:57.160219Z"
    }
   },
   "outputs": [],
   "source": [
    "def polarticks_2(value,tick_number):\n",
    "    N = int(np.round(2*value/np.pi))\n",
    "    if N == 0:\n",
    "        return r\"$0$\"\n",
    "    elif N == -1:\n",
    "        return r\"$-\\pi/2$\"\n",
    "    elif N == 1:\n",
    "        return r\"$\\pi/2$\"\n",
    "    elif N == -2:\n",
    "        return r\"$-\\pi$\"\n",
    "    elif N == 2:\n",
    "        return r\"$\\pi$\"\n",
    "    elif N%2 < 0:\n",
    "        return r\"$-{0}\\pi/2$\".format(N)\n",
    "    elif N%2 > 0 or N%2 < 0:\n",
    "        return r\"${0}\\pi/2$\".format(N)\n",
    "    else:\n",
    "        return r\"${0}\\pi$\".format(N//2)"
   ]
  },
  {
   "cell_type": "code",
   "execution_count": 11,
   "metadata": {
    "ExecuteTime": {
     "end_time": "2018-09-06T17:11:07.997200Z",
     "start_time": "2018-09-06T17:11:07.969156Z"
    },
    "scrolled": false
   },
   "outputs": [],
   "source": [
    "def modes(f, m1, m2):\n",
    "    \n",
    "    def mat1(q):\n",
    "        return np.array([[ 2*f , -f , 0 , -f*np.exp(-1j*q) ],\n",
    "                  [ -f, 2*f , -f , 0 ],\n",
    "                  [ 0 , -f , 2*f , -f ],\n",
    "                  [ -f*np.exp(1j*q) , 0 , -f , 2*f ]], float)\n",
    "\n",
    "    massmat = np.diag([m1,m1,m1,m2])\n",
    "\n",
    "    def mat2(q):\n",
    "        return np.dot(sla.inv(massmat), mat1(q))\n",
    "\n",
    "    x_axis = np.arange(-np.pi,np.pi+np.pi/50,np.pi/50)\n",
    "    eigenlist = [sla.eigvals(mat2(x)) for x in x_axis]\n",
    "    eigensys = sla.eig(mat2(0.0))\n",
    "    \n",
    "    return eigenlist,eigensys"
   ]
  },
  {
   "cell_type": "code",
   "execution_count": 12,
   "metadata": {
    "ExecuteTime": {
     "end_time": "2018-09-06T17:11:10.084377Z",
     "start_time": "2018-09-06T17:11:09.877546Z"
    }
   },
   "outputs": [
    {
     "name": "stderr",
     "output_type": "stream",
     "text": [
      "C:\\ProgramData\\Anaconda3\\lib\\site-packages\\ipykernel_launcher.py:7: ComplexWarning: Casting complex values to real discards the imaginary part\n",
      "  import sys\n"
     ]
    }
   ],
   "source": [
    "eigenlist,eigensys = modes(1.0,0.4,0.1)"
   ]
  },
  {
   "cell_type": "code",
   "execution_count": 28,
   "metadata": {
    "ExecuteTime": {
     "end_time": "2018-09-06T17:26:59.874719Z",
     "start_time": "2018-09-06T17:26:59.861703Z"
    }
   },
   "outputs": [],
   "source": [
    "eigenlist = np.array(eigenlist)"
   ]
  },
  {
   "cell_type": "code",
   "execution_count": 31,
   "metadata": {
    "ExecuteTime": {
     "end_time": "2018-09-06T17:28:15.544848Z",
     "start_time": "2018-09-06T17:28:14.389785Z"
    }
   },
   "outputs": [
    {
     "name": "stderr",
     "output_type": "stream",
     "text": [
      "C:\\ProgramData\\Anaconda3\\lib\\site-packages\\numpy\\core\\numeric.py:531: ComplexWarning: Casting complex values to real discards the imaginary part\n",
      "  return array(a, dtype, copy=False, order=order)\n"
     ]
    },
    {
     "data": {
      "image/png": "[encoded data removed]",
      "text/plain": [
       "<matplotlib.figure.Figure at 0x1e620fca400>"
      ]
     },
     "metadata": {},
     "output_type": "display_data"
    }
   ],
   "source": [
    "x_axis = np.arange(-np.pi,np.pi+np.pi/50,np.pi/50)\n",
    "\n",
    "fig,ax = mp.subplots(figsize=(13,13*9/16))\n",
    "\n",
    "ax.plot(x_axis, np.sqrt(eigenlist), \"ro\")\n",
    "ax.set_xlabel(r\"$q$\")\n",
    "ax.set_ylabel(r\"$\\omega$\")\n",
    "ax.set_title(r\"\\textrm{(2.12) Frequencies of eigenmodes of the linear chain}\")\n",
    "\n",
    "ax.xaxis.set_major_locator(mp.MultipleLocator(np.pi/2))\n",
    "ax.xaxis.set_major_formatter(mp.FuncFormatter(polarticks_2))\n",
    "mp.show()"
   ]
  },
  {
   "cell_type": "code",
   "execution_count": null,
   "metadata": {},
   "outputs": [],
   "source": []
  }
 ],
 "metadata": {
  "kernelspec": {
   "display_name": "Python 3",
   "language": "python",
   "name": "python3"
  },
  "language_info": {
   "codemirror_mode": {
    "name": "ipython",
    "version": 3
   },
   "file_extension": ".py",
   "mimetype": "text/x-python",
   "name": "python",
   "nbconvert_exporter": "python",
   "pygments_lexer": "ipython3",
   "version": "3.6.1"
  },
  "latex_envs": {
   "LaTeX_envs_menu_present": true,
   "autoclose": true,
   "autocomplete": true,
   "bibliofile": "biblio.bib",
   "cite_by": "apalike",
   "current_citInitial": 1,
   "eqLabelWithNumbers": true,
   "eqNumInitial": 1,
   "hotkeys": {
    "equation": "Ctrl-E",
    "itemize": "Ctrl-I"
   },
   "labels_anchors": false,
   "latex_user_defs": false,
   "report_style_numbering": false,
   "user_envs_cfg": false
  },
  "varInspector": {
   "cols": {
    "lenName": 16,
    "lenType": 16,
    "lenVar": 40
   },
   "kernels_config": {
    "python": {
     "delete_cmd_postfix": "",
     "delete_cmd_prefix": "del ",
     "library": "var_list.py",
     "varRefreshCmd": "print(var_dic_list())"
    },
    "r": {
     "delete_cmd_postfix": ") ",
     "delete_cmd_prefix": "rm(",
     "library": "var_list.r",
     "varRefreshCmd": "cat(var_dic_list()) "
    }
   },
   "types_to_exclude": [
    "module",
    "function",
    "builtin_function_or_method",
    "instance",
    "_Feature"
   ],
   "window_display": false
  }
 },
 "nbformat": 4,
 "nbformat_minor": 2
}
